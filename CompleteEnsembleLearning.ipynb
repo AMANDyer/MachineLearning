{
 "cells": [
  {
   "cell_type": "code",
   "execution_count": 2,
   "id": "f7cf7cb4-2af3-4872-8929-d40ca89cf03c",
   "metadata": {},
   "outputs": [],
   "source": [
    "import numpy as np\n",
    "import pandas as pd\n",
    "from sklearn.ensemble import RandomForestClassifier\n",
    "from sklearn.datasets import make_classification\n",
    "from sklearn.model_selection import train_test_split\n",
    "from sklearn.metrics import accuracy_score"
   ]
  },
  {
   "cell_type": "code",
   "execution_count": 5,
   "id": "3ba08708-192e-42d2-9754-6653a61aa126",
   "metadata": {},
   "outputs": [
    {
     "name": "stdout",
     "output_type": "stream",
     "text": [
      "Ensemble accuracy: 0.95\n"
     ]
    }
   ],
   "source": [
    "#Generate a synthetic dataset\n",
    "x,y=make_classification(n_samples=100,n_features=20,random_state=42)\n",
    "\n",
    "#split the dataset into training and testing sets\n",
    "x_train,x_test,y_train,y_test=train_test_split(x,y,test_size=0.2,random_state=42)\n",
    "\n",
    "#initia;ize a list to store the base learners\n",
    "base_learners=[]\n",
    "\n",
    "#Number of base learners(DT)\n",
    "num_base_learners=10\n",
    "\n",
    "#Train the base learners\n",
    "for i in range (num_base_learners):\n",
    "    #create a bootstrap sample of the training data\n",
    "    bootstrap_indices=np.random.choice(len(x_train),size=len(x_train),replace=True)\n",
    "\n",
    "    x_bootstrap=x_train[bootstrap_indices]\n",
    "    y_bootstrap=y_train[bootstrap_indices]\n",
    "\n",
    "    #create and train a base learner(RF)\n",
    "    base_learner=RandomForestClassifier(n_estimators=10,random_state=42)\n",
    "    base_learner.fit(x_bootstrap,y_bootstrap)\n",
    "\n",
    "\n",
    "    #Add the trained base learner to the list\n",
    "    base_learners.append(base_learner)\n",
    "\n",
    "#make predictions with each base learner\n",
    "base_predictions=[]\n",
    "for base_learner in base_learners:\n",
    "    y_pred=base_learner.predict(x_test)\n",
    "    base_predictions.append(y_pred)\n",
    "\n",
    "#cobine the predictions using majority voting\n",
    "ensemble_predictions=np.round(np.mean(base_predictions,axis=0))\n",
    "\n",
    "#calculate the accuracy of the ensemble predictions\n",
    "\n",
    "accuracy=accuracy_score(y_test,ensemble_predictions)\n",
    "print('Ensemble accuracy:',accuracy)"
   ]
  },
  {
   "cell_type": "code",
   "execution_count": null,
   "id": "593a5ab9-662e-4c5d-9056-998db098333c",
   "metadata": {},
   "outputs": [],
   "source": []
  }
 ],
 "metadata": {
  "kernelspec": {
   "display_name": "Python 3 (ipykernel)",
   "language": "python",
   "name": "python3"
  },
  "language_info": {
   "codemirror_mode": {
    "name": "ipython",
    "version": 3
   },
   "file_extension": ".py",
   "mimetype": "text/x-python",
   "name": "python",
   "nbconvert_exporter": "python",
   "pygments_lexer": "ipython3",
   "version": "3.11.8"
  }
 },
 "nbformat": 4,
 "nbformat_minor": 5
}
