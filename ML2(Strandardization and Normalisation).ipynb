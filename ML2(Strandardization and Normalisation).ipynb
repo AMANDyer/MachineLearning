{
 "cells": [
  {
   "cell_type": "code",
   "execution_count": 1,
   "id": "41548476-68c6-4a39-a75e-d2f994bc7219",
   "metadata": {},
   "outputs": [],
   "source": [
    "#Data Devidation\n",
    "\n",
    "\n",
    "#df...>x + y\n",
    "#x....> x_train,x_test\n",
    "#y.....> y_train,y_test"
   ]
  },
  {
   "cell_type": "code",
   "execution_count": 2,
   "id": "8ff528d9-cdc1-4299-8f8f-d4c63180346c",
   "metadata": {},
   "outputs": [],
   "source": [
    "import numpy as np\n",
    "import pandas as pd"
   ]
  },
  {
   "cell_type": "code",
   "execution_count": 3,
   "id": "f339a8ce-609d-409e-8d50-819ee0e0f191",
   "metadata": {},
   "outputs": [
    {
     "data": {
      "text/html": [
       "<div>\n",
       "<style scoped>\n",
       "    .dataframe tbody tr th:only-of-type {\n",
       "        vertical-align: middle;\n",
       "    }\n",
       "\n",
       "    .dataframe tbody tr th {\n",
       "        vertical-align: top;\n",
       "    }\n",
       "\n",
       "    .dataframe thead th {\n",
       "        text-align: right;\n",
       "    }\n",
       "</style>\n",
       "<table border=\"1\" class=\"dataframe\">\n",
       "  <thead>\n",
       "    <tr style=\"text-align: right;\">\n",
       "      <th></th>\n",
       "      <th>cgpa</th>\n",
       "      <th>resume_score</th>\n",
       "      <th>placed</th>\n",
       "    </tr>\n",
       "  </thead>\n",
       "  <tbody>\n",
       "    <tr>\n",
       "      <th>0</th>\n",
       "      <td>8.14</td>\n",
       "      <td>6.52</td>\n",
       "      <td>1</td>\n",
       "    </tr>\n",
       "    <tr>\n",
       "      <th>1</th>\n",
       "      <td>6.17</td>\n",
       "      <td>5.17</td>\n",
       "      <td>0</td>\n",
       "    </tr>\n",
       "    <tr>\n",
       "      <th>2</th>\n",
       "      <td>8.27</td>\n",
       "      <td>8.86</td>\n",
       "      <td>1</td>\n",
       "    </tr>\n",
       "    <tr>\n",
       "      <th>3</th>\n",
       "      <td>6.88</td>\n",
       "      <td>7.27</td>\n",
       "      <td>1</td>\n",
       "    </tr>\n",
       "    <tr>\n",
       "      <th>4</th>\n",
       "      <td>7.52</td>\n",
       "      <td>7.30</td>\n",
       "      <td>1</td>\n",
       "    </tr>\n",
       "  </tbody>\n",
       "</table>\n",
       "</div>"
      ],
      "text/plain": [
       "   cgpa  resume_score  placed\n",
       "0  8.14          6.52       1\n",
       "1  6.17          5.17       0\n",
       "2  8.27          8.86       1\n",
       "3  6.88          7.27       1\n",
       "4  7.52          7.30       1"
      ]
     },
     "execution_count": 3,
     "metadata": {},
     "output_type": "execute_result"
    }
   ],
   "source": [
    "df=pd.read_csv(\"placement - placement.csv\")\n",
    "df.head()"
   ]
  },
  {
   "cell_type": "code",
   "execution_count": 4,
   "id": "60b768c8-9522-4087-af66-e06893352fed",
   "metadata": {},
   "outputs": [],
   "source": [
    "x=df.drop(columns=['placed'])   ##input Data or independent Data\n",
    "#x"
   ]
  },
  {
   "cell_type": "code",
   "execution_count": 5,
   "id": "5eebbb19-e813-4c92-abc0-cd900e2c47fd",
   "metadata": {},
   "outputs": [],
   "source": [
    "y=df['placed']     #target data or dependent data\n",
    "#y"
   ]
  },
  {
   "cell_type": "code",
   "execution_count": 6,
   "id": "1fbe5db8-0292-484c-9062-33fc864f79ed",
   "metadata": {},
   "outputs": [],
   "source": [
    "from sklearn.model_selection import train_test_split"
   ]
  },
  {
   "cell_type": "code",
   "execution_count": 7,
   "id": "aa17ad4a-acc0-47e6-8039-867aac2afdeb",
   "metadata": {},
   "outputs": [],
   "source": [
    "x_train , x_test , y_train , y_test=train_test_split(x,y,test_size=0.2,random_state=43)"
   ]
  },
  {
   "cell_type": "code",
   "execution_count": 8,
   "id": "854c582c-32d0-4f34-a11d-6e33ab08f7cf",
   "metadata": {},
   "outputs": [
    {
     "data": {
      "text/html": [
       "<div>\n",
       "<style scoped>\n",
       "    .dataframe tbody tr th:only-of-type {\n",
       "        vertical-align: middle;\n",
       "    }\n",
       "\n",
       "    .dataframe tbody tr th {\n",
       "        vertical-align: top;\n",
       "    }\n",
       "\n",
       "    .dataframe thead th {\n",
       "        text-align: right;\n",
       "    }\n",
       "</style>\n",
       "<table border=\"1\" class=\"dataframe\">\n",
       "  <thead>\n",
       "    <tr style=\"text-align: right;\">\n",
       "      <th></th>\n",
       "      <th>cgpa</th>\n",
       "      <th>resume_score</th>\n",
       "    </tr>\n",
       "  </thead>\n",
       "  <tbody>\n",
       "    <tr>\n",
       "      <th>count</th>\n",
       "      <td>80.00</td>\n",
       "      <td>80.00</td>\n",
       "    </tr>\n",
       "    <tr>\n",
       "      <th>mean</th>\n",
       "      <td>6.91</td>\n",
       "      <td>6.94</td>\n",
       "    </tr>\n",
       "    <tr>\n",
       "      <th>std</th>\n",
       "      <td>1.11</td>\n",
       "      <td>0.93</td>\n",
       "    </tr>\n",
       "    <tr>\n",
       "      <th>min</th>\n",
       "      <td>5.34</td>\n",
       "      <td>4.95</td>\n",
       "    </tr>\n",
       "    <tr>\n",
       "      <th>25%</th>\n",
       "      <td>5.94</td>\n",
       "      <td>6.24</td>\n",
       "    </tr>\n",
       "    <tr>\n",
       "      <th>50%</th>\n",
       "      <td>6.57</td>\n",
       "      <td>7.11</td>\n",
       "    </tr>\n",
       "    <tr>\n",
       "      <th>75%</th>\n",
       "      <td>7.95</td>\n",
       "      <td>7.64</td>\n",
       "    </tr>\n",
       "    <tr>\n",
       "      <th>max</th>\n",
       "      <td>9.40</td>\n",
       "      <td>8.75</td>\n",
       "    </tr>\n",
       "  </tbody>\n",
       "</table>\n",
       "</div>"
      ],
      "text/plain": [
       "        cgpa  resume_score\n",
       "count  80.00         80.00\n",
       "mean    6.91          6.94\n",
       "std     1.11          0.93\n",
       "min     5.34          4.95\n",
       "25%     5.94          6.24\n",
       "50%     6.57          7.11\n",
       "75%     7.95          7.64\n",
       "max     9.40          8.75"
      ]
     },
     "execution_count": 8,
     "metadata": {},
     "output_type": "execute_result"
    }
   ],
   "source": [
    "np.round(x_train.describe(),2)"
   ]
  },
  {
   "cell_type": "code",
   "execution_count": 9,
   "id": "3e5f4176-7b40-4d2f-9915-2145a89b981b",
   "metadata": {},
   "outputs": [
    {
     "data": {
      "text/html": [
       "<div>\n",
       "<style scoped>\n",
       "    .dataframe tbody tr th:only-of-type {\n",
       "        vertical-align: middle;\n",
       "    }\n",
       "\n",
       "    .dataframe tbody tr th {\n",
       "        vertical-align: top;\n",
       "    }\n",
       "\n",
       "    .dataframe thead th {\n",
       "        text-align: right;\n",
       "    }\n",
       "</style>\n",
       "<table border=\"1\" class=\"dataframe\">\n",
       "  <thead>\n",
       "    <tr style=\"text-align: right;\">\n",
       "      <th></th>\n",
       "      <th>cgpa</th>\n",
       "      <th>resume_score</th>\n",
       "    </tr>\n",
       "  </thead>\n",
       "  <tbody>\n",
       "    <tr>\n",
       "      <th>count</th>\n",
       "      <td>80.000000</td>\n",
       "      <td>80.000000</td>\n",
       "    </tr>\n",
       "    <tr>\n",
       "      <th>mean</th>\n",
       "      <td>6.910875</td>\n",
       "      <td>6.936875</td>\n",
       "    </tr>\n",
       "    <tr>\n",
       "      <th>std</th>\n",
       "      <td>1.108263</td>\n",
       "      <td>0.926565</td>\n",
       "    </tr>\n",
       "    <tr>\n",
       "      <th>min</th>\n",
       "      <td>5.340000</td>\n",
       "      <td>4.950000</td>\n",
       "    </tr>\n",
       "    <tr>\n",
       "      <th>25%</th>\n",
       "      <td>5.935000</td>\n",
       "      <td>6.235000</td>\n",
       "    </tr>\n",
       "    <tr>\n",
       "      <th>50%</th>\n",
       "      <td>6.575000</td>\n",
       "      <td>7.110000</td>\n",
       "    </tr>\n",
       "    <tr>\n",
       "      <th>75%</th>\n",
       "      <td>7.950000</td>\n",
       "      <td>7.640000</td>\n",
       "    </tr>\n",
       "    <tr>\n",
       "      <th>max</th>\n",
       "      <td>9.400000</td>\n",
       "      <td>8.750000</td>\n",
       "    </tr>\n",
       "  </tbody>\n",
       "</table>\n",
       "</div>"
      ],
      "text/plain": [
       "            cgpa  resume_score\n",
       "count  80.000000     80.000000\n",
       "mean    6.910875      6.936875\n",
       "std     1.108263      0.926565\n",
       "min     5.340000      4.950000\n",
       "25%     5.935000      6.235000\n",
       "50%     6.575000      7.110000\n",
       "75%     7.950000      7.640000\n",
       "max     9.400000      8.750000"
      ]
     },
     "execution_count": 9,
     "metadata": {},
     "output_type": "execute_result"
    }
   ],
   "source": [
    "x_train.describe()"
   ]
  },
  {
   "cell_type": "code",
   "execution_count": 10,
   "id": "0078baab-3dd5-44d3-b863-93a4ffee1499",
   "metadata": {},
   "outputs": [],
   "source": [
    "# Mean ....> Average\n",
    "\n",
    "\n",
    "#Normal Distribution .....> Central tendency(mean,median) ...>left and right side equal data points\n",
    "\n",
    "\n",
    "#Standard deviation .......> Next value gap from central tendancy"
   ]
  },
  {
   "cell_type": "code",
   "execution_count": 11,
   "id": "47f4e5af-e0df-4047-a05c-61277d9b53f9",
   "metadata": {},
   "outputs": [],
   "source": [
    "from sklearn.preprocessing import StandardScaler"
   ]
  },
  {
   "cell_type": "code",
   "execution_count": 12,
   "id": "564d08a1-38a0-4584-b0f2-c748786cdf1e",
   "metadata": {},
   "outputs": [],
   "source": [
    "sc=StandardScaler()"
   ]
  },
  {
   "cell_type": "code",
   "execution_count": 13,
   "id": "e769e389-072b-40bb-b943-029c42fd6386",
   "metadata": {},
   "outputs": [],
   "source": [
    "x_train_sc=sc.fit_transform(x_train)  ##fit means learn the parameters and transform means apply on that data"
   ]
  },
  {
   "cell_type": "code",
   "execution_count": 14,
   "id": "97739be7-4348-4791-a958-334b026f0120",
   "metadata": {},
   "outputs": [
    {
     "ename": "AttributeError",
     "evalue": "'numpy.ndarray' object has no attribute 'describe'",
     "output_type": "error",
     "traceback": [
      "\u001b[31m---------------------------------------------------------------------------\u001b[39m",
      "\u001b[31mAttributeError\u001b[39m                            Traceback (most recent call last)",
      "\u001b[36mCell\u001b[39m\u001b[36m \u001b[39m\u001b[32mIn[14]\u001b[39m\u001b[32m, line 1\u001b[39m\n\u001b[32m----> \u001b[39m\u001b[32m1\u001b[39m np.round(\u001b[43mx_train_sc\u001b[49m\u001b[43m.\u001b[49m\u001b[43mdescribe\u001b[49m(),\u001b[32m2\u001b[39m)\n",
      "\u001b[31mAttributeError\u001b[39m: 'numpy.ndarray' object has no attribute 'describe'"
     ]
    }
   ],
   "source": [
    "np.round(x_train_sc.describe(),2)"
   ]
  },
  {
   "cell_type": "code",
   "execution_count": 18,
   "id": "01bf4cb7-2ad1-45ab-a772-b20282a64205",
   "metadata": {},
   "outputs": [
    {
     "data": {
      "text/plain": [
       "numpy.ndarray"
      ]
     },
     "execution_count": 18,
     "metadata": {},
     "output_type": "execute_result"
    }
   ],
   "source": [
    "type(x_train_sc)"
   ]
  },
  {
   "cell_type": "code",
   "execution_count": 19,
   "id": "5039404e-8126-4396-8e68-fb117a750ec0",
   "metadata": {},
   "outputs": [
    {
     "data": {
      "text/plain": [
       "pandas.core.frame.DataFrame"
      ]
     },
     "execution_count": 19,
     "metadata": {},
     "output_type": "execute_result"
    }
   ],
   "source": [
    "x_train_new=pd.DataFrame(x_train_sc,columns=x_train.columns)\n",
    "type(x_train_new)"
   ]
  },
  {
   "cell_type": "code",
   "execution_count": 20,
   "id": "f44f525b-4dce-4d7a-b7fd-b0c38cb7d011",
   "metadata": {},
   "outputs": [
    {
     "data": {
      "text/html": [
       "<div>\n",
       "<style scoped>\n",
       "    .dataframe tbody tr th:only-of-type {\n",
       "        vertical-align: middle;\n",
       "    }\n",
       "\n",
       "    .dataframe tbody tr th {\n",
       "        vertical-align: top;\n",
       "    }\n",
       "\n",
       "    .dataframe thead th {\n",
       "        text-align: right;\n",
       "    }\n",
       "</style>\n",
       "<table border=\"1\" class=\"dataframe\">\n",
       "  <thead>\n",
       "    <tr style=\"text-align: right;\">\n",
       "      <th></th>\n",
       "      <th>cgpa</th>\n",
       "      <th>resume_score</th>\n",
       "    </tr>\n",
       "  </thead>\n",
       "  <tbody>\n",
       "    <tr>\n",
       "      <th>count</th>\n",
       "      <td>80.00</td>\n",
       "      <td>80.00</td>\n",
       "    </tr>\n",
       "    <tr>\n",
       "      <th>mean</th>\n",
       "      <td>0.00</td>\n",
       "      <td>-0.00</td>\n",
       "    </tr>\n",
       "    <tr>\n",
       "      <th>std</th>\n",
       "      <td>1.01</td>\n",
       "      <td>1.01</td>\n",
       "    </tr>\n",
       "    <tr>\n",
       "      <th>min</th>\n",
       "      <td>-1.43</td>\n",
       "      <td>-2.16</td>\n",
       "    </tr>\n",
       "    <tr>\n",
       "      <th>25%</th>\n",
       "      <td>-0.89</td>\n",
       "      <td>-0.76</td>\n",
       "    </tr>\n",
       "    <tr>\n",
       "      <th>50%</th>\n",
       "      <td>-0.30</td>\n",
       "      <td>0.19</td>\n",
       "    </tr>\n",
       "    <tr>\n",
       "      <th>75%</th>\n",
       "      <td>0.94</td>\n",
       "      <td>0.76</td>\n",
       "    </tr>\n",
       "    <tr>\n",
       "      <th>max</th>\n",
       "      <td>2.26</td>\n",
       "      <td>1.97</td>\n",
       "    </tr>\n",
       "  </tbody>\n",
       "</table>\n",
       "</div>"
      ],
      "text/plain": [
       "        cgpa  resume_score\n",
       "count  80.00         80.00\n",
       "mean    0.00         -0.00\n",
       "std     1.01          1.01\n",
       "min    -1.43         -2.16\n",
       "25%    -0.89         -0.76\n",
       "50%    -0.30          0.19\n",
       "75%     0.94          0.76\n",
       "max     2.26          1.97"
      ]
     },
     "execution_count": 20,
     "metadata": {},
     "output_type": "execute_result"
    }
   ],
   "source": [
    "np.round(x_train_new.describe(),2)"
   ]
  },
  {
   "cell_type": "code",
   "execution_count": null,
   "id": "56ccb7ab-fdee-41e3-b594-462f884f5864",
   "metadata": {},
   "outputs": [],
   "source": [
    "#Data 2"
   ]
  },
  {
   "cell_type": "code",
   "execution_count": null,
   "id": "2566f69b-ad70-49eb-803b-82ecec955dbf",
   "metadata": {},
   "outputs": [],
   "source": [
    "df=pd.read_csv(\"covid_toy - covid_toy.csv\")\n",
    "df.head(3)"
   ]
  },
  {
   "cell_type": "code",
   "execution_count": null,
   "id": "4775be78-d367-42a7-9ea5-da5d798274fe",
   "metadata": {},
   "outputs": [],
   "source": [
    "df.isnull().sum()"
   ]
  },
  {
   "cell_type": "code",
   "execution_count": null,
   "id": "eabe2120-2f05-49ee-a67b-97d0f6150cdb",
   "metadata": {},
   "outputs": [],
   "source": [
    "from sklearn.impute import SimpleImputer  ##it is used for filling missing data"
   ]
  },
  {
   "cell_type": "code",
   "execution_count": null,
   "id": "d5233c8d-609f-4139-a4e8-8adc7f752d7b",
   "metadata": {},
   "outputs": [],
   "source": [
    "si=SimpleImputer()"
   ]
  },
  {
   "cell_type": "code",
   "execution_count": null,
   "id": "954ee3de-d4b4-4002-8160-806488eef336",
   "metadata": {},
   "outputs": [],
   "source": [
    "df['fever']=si.fit_transform(df[['fever']])\n"
   ]
  },
  {
   "cell_type": "code",
   "execution_count": null,
   "id": "3d001ed5-a075-4566-9d09-92ec22cd8cef",
   "metadata": {},
   "outputs": [],
   "source": [
    "df.isnull().sum()"
   ]
  },
  {
   "cell_type": "code",
   "execution_count": null,
   "id": "7f9a11ab-d6a4-4804-a35b-4e4346408a8a",
   "metadata": {},
   "outputs": [],
   "source": [
    "df.head()"
   ]
  },
  {
   "cell_type": "code",
   "execution_count": null,
   "id": "6ce2aa05-1ff3-4a49-bc4a-5ba7d3204cc4",
   "metadata": {},
   "outputs": [],
   "source": [
    "df['gender'].value_counts"
   ]
  },
  {
   "cell_type": "code",
   "execution_count": null,
   "id": "b044f3eb-9953-4694-8f92-8f64b9e66d26",
   "metadata": {},
   "outputs": [],
   "source": [
    "df['gender']=df['gender'].map({'Male':0,'Female':1})\n",
    "df['cough']=df['cough'].map({'Mild':0,'Strong':1})\n",
    "df['city']=df['city'].map({'Kolkata':0,'Banglore':1,'Delhi':2,'Mumbai':3})\n",
    "df['has_covid']=df['has_covid'].map({'Yes':0,'No':1})\n"
   ]
  },
  {
   "cell_type": "code",
   "execution_count": null,
   "id": "f7640560-0f7c-41d8-830c-282b0282efc4",
   "metadata": {},
   "outputs": [],
   "source": [
    "df.head()"
   ]
  },
  {
   "cell_type": "code",
   "execution_count": null,
   "id": "b76709d1-e440-4838-aca4-505c62593a27",
   "metadata": {},
   "outputs": [],
   "source": [
    "x=df.drop(columns=['has_covid'])   ##input Data or independent Data\n",
    "y=df['has_covid'] #target data"
   ]
  },
  {
   "cell_type": "code",
   "execution_count": null,
   "id": "c17c672e-c191-4c63-93a8-16e8c98b5464",
   "metadata": {},
   "outputs": [],
   "source": [
    "from sklearn.model_selection import train_test_split"
   ]
  },
  {
   "cell_type": "code",
   "execution_count": null,
   "id": "019f2baa-86f3-430a-b1a3-356869fd0e5c",
   "metadata": {},
   "outputs": [],
   "source": [
    "x_train , x_test , y_train , y_test =train_test_split(x,y,test_size=0.2,random_state=42)"
   ]
  },
  {
   "cell_type": "code",
   "execution_count": null,
   "id": "4aceb488-8d7c-4fa4-a104-898c7d006eba",
   "metadata": {},
   "outputs": [],
   "source": [
    "np.round(x_train.describe(),2)"
   ]
  },
  {
   "cell_type": "code",
   "execution_count": null,
   "id": "c535f7cc-065e-400e-a171-2ab394c875bb",
   "metadata": {},
   "outputs": [],
   "source": [
    "from sklearn.preprocessing import StandardScaler"
   ]
  },
  {
   "cell_type": "code",
   "execution_count": null,
   "id": "6b050c87-c3d5-4f52-8cec-f7645a0563ca",
   "metadata": {},
   "outputs": [],
   "source": [
    "sc=StandardScaler()"
   ]
  },
  {
   "cell_type": "code",
   "execution_count": null,
   "id": "191c3765-0030-40ff-a399-1f9dc9995608",
   "metadata": {},
   "outputs": [],
   "source": [
    "x_train_sc=sc.fit_transform(x_train)"
   ]
  },
  {
   "cell_type": "code",
   "execution_count": null,
   "id": "68c24244-21ca-489e-acd5-a1b0b6dc819b",
   "metadata": {},
   "outputs": [],
   "source": [
    "x_train_new=pd.DataFrame(x_train_sc,columns=x_train.columns)"
   ]
  },
  {
   "cell_type": "code",
   "execution_count": null,
   "id": "0ebe516f-9e78-4a50-bbc3-7494722199dc",
   "metadata": {},
   "outputs": [],
   "source": [
    "np.round(x_train_new.describe(),2)"
   ]
  },
  {
   "cell_type": "code",
   "execution_count": null,
   "id": "d8d21f7f-23b7-46d7-b86c-330525975e39",
   "metadata": {},
   "outputs": [],
   "source": [
    "##Data 3"
   ]
  },
  {
   "cell_type": "code",
   "execution_count": null,
   "id": "23f708b8-0642-4b1f-9456-a13c7c8bce7f",
   "metadata": {},
   "outputs": [],
   "source": [
    "df=pd.read_csv(\"tips - tips.csv\")"
   ]
  },
  {
   "cell_type": "code",
   "execution_count": null,
   "id": "6301fe26-ebc8-49ef-a10c-5d7eebaed049",
   "metadata": {},
   "outputs": [],
   "source": [
    "df.head()"
   ]
  },
  {
   "cell_type": "code",
   "execution_count": null,
   "id": "84847124-261c-4ac3-8a5a-c8acf10a89da",
   "metadata": {},
   "outputs": [],
   "source": [
    "df.isnull().sum()"
   ]
  },
  {
   "cell_type": "code",
   "execution_count": null,
   "id": "3eef34b2-d3f4-4860-824d-8df6b2809f7f",
   "metadata": {},
   "outputs": [],
   "source": [
    "x=df.drop(columns=['total_bill'])\n",
    "y=df['total_bill']\n",
    "df.head()"
   ]
  },
  {
   "cell_type": "code",
   "execution_count": null,
   "id": "a5c800c0-0180-4eca-bd08-65e816fd6f12",
   "metadata": {},
   "outputs": [],
   "source": [
    "df['time'].value_counts"
   ]
  },
  {
   "cell_type": "code",
   "execution_count": null,
   "id": "95cbab88-27d4-4329-b8b2-baf7a7fc3bae",
   "metadata": {},
   "outputs": [],
   "source": [
    "df['sex']=df['sex'].map({'Male':0,'Female':1})\n",
    "df['smoker']=df['smoker'].map({'No':0,'Yes':1})\n",
    "df['day']=df['day'].map({'Sun':0,'Sat':1,'Thur':2})\n",
    "df['time']=df['time'].map({'Dinner':0})\n"
   ]
  },
  {
   "cell_type": "code",
   "execution_count": null,
   "id": "b64611e3-ba8f-4dda-a694-a1fcb8b66b6c",
   "metadata": {},
   "outputs": [],
   "source": [
    "from sklearn.model_selection import train_test_split "
   ]
  },
  {
   "cell_type": "code",
   "execution_count": null,
   "id": "da980487-ab14-4ab1-91de-365810346f32",
   "metadata": {},
   "outputs": [],
   "source": [
    "x_train , x_test ,y_train , y_test=train_test_split(x,y,test_size=0.2,random_state=43)"
   ]
  },
  {
   "cell_type": "code",
   "execution_count": null,
   "id": "196cc5b3-7fa6-43fe-9c99-a4bce0afdaa5",
   "metadata": {},
   "outputs": [],
   "source": [
    "np.round(x_train.describe(),2)"
   ]
  },
  {
   "cell_type": "markdown",
   "id": "fa36f160-8df8-40a2-98d9-45a6b5d0a74a",
   "metadata": {},
   "source": [
    "from sklearn.preprocessing import StandardScaler"
   ]
  },
  {
   "cell_type": "code",
   "execution_count": null,
   "id": "e03a513e-d978-42bd-9769-1e27d87f561c",
   "metadata": {},
   "outputs": [],
   "source": [
    "\n",
    "from sklearn.preprocessing import StandardScaler\n",
    "\n"
   ]
  },
  {
   "cell_type": "code",
   "execution_count": null,
   "id": "de418f9d-aa7a-4bec-a74c-b6b7f7eccf1b",
   "metadata": {},
   "outputs": [],
   "source": [
    "df.head()"
   ]
  },
  {
   "cell_type": "code",
   "execution_count": null,
   "id": "661b4f07-1cd9-44f7-8b76-acd48bb36ec8",
   "metadata": {},
   "outputs": [],
   "source": [
    "sc=StandardScaler()"
   ]
  },
  {
   "cell_type": "code",
   "execution_count": 15,
   "id": "654cde33-15c7-415d-b4b8-278353bed8bd",
   "metadata": {},
   "outputs": [],
   "source": [
    "x_train_sc=sc.fit_transform(x_train)"
   ]
  },
  {
   "cell_type": "code",
   "execution_count": 16,
   "id": "4375ba6a-8d4e-4a8b-b0af-8c8af4d212bc",
   "metadata": {},
   "outputs": [],
   "source": [
    "x_train_new=pd.DataFrame(x_train_sc,columns=x_train.columns)"
   ]
  },
  {
   "cell_type": "code",
   "execution_count": 17,
   "id": "ea285b2b-5fd1-4f25-b4a2-5324f49bc2e0",
   "metadata": {},
   "outputs": [
    {
     "data": {
      "text/html": [
       "<div>\n",
       "<style scoped>\n",
       "    .dataframe tbody tr th:only-of-type {\n",
       "        vertical-align: middle;\n",
       "    }\n",
       "\n",
       "    .dataframe tbody tr th {\n",
       "        vertical-align: top;\n",
       "    }\n",
       "\n",
       "    .dataframe thead th {\n",
       "        text-align: right;\n",
       "    }\n",
       "</style>\n",
       "<table border=\"1\" class=\"dataframe\">\n",
       "  <thead>\n",
       "    <tr style=\"text-align: right;\">\n",
       "      <th></th>\n",
       "      <th>cgpa</th>\n",
       "      <th>resume_score</th>\n",
       "    </tr>\n",
       "  </thead>\n",
       "  <tbody>\n",
       "    <tr>\n",
       "      <th>count</th>\n",
       "      <td>80.00</td>\n",
       "      <td>80.00</td>\n",
       "    </tr>\n",
       "    <tr>\n",
       "      <th>mean</th>\n",
       "      <td>0.00</td>\n",
       "      <td>-0.00</td>\n",
       "    </tr>\n",
       "    <tr>\n",
       "      <th>std</th>\n",
       "      <td>1.01</td>\n",
       "      <td>1.01</td>\n",
       "    </tr>\n",
       "    <tr>\n",
       "      <th>min</th>\n",
       "      <td>-1.43</td>\n",
       "      <td>-2.16</td>\n",
       "    </tr>\n",
       "    <tr>\n",
       "      <th>25%</th>\n",
       "      <td>-0.89</td>\n",
       "      <td>-0.76</td>\n",
       "    </tr>\n",
       "    <tr>\n",
       "      <th>50%</th>\n",
       "      <td>-0.30</td>\n",
       "      <td>0.19</td>\n",
       "    </tr>\n",
       "    <tr>\n",
       "      <th>75%</th>\n",
       "      <td>0.94</td>\n",
       "      <td>0.76</td>\n",
       "    </tr>\n",
       "    <tr>\n",
       "      <th>max</th>\n",
       "      <td>2.26</td>\n",
       "      <td>1.97</td>\n",
       "    </tr>\n",
       "  </tbody>\n",
       "</table>\n",
       "</div>"
      ],
      "text/plain": [
       "        cgpa  resume_score\n",
       "count  80.00         80.00\n",
       "mean    0.00         -0.00\n",
       "std     1.01          1.01\n",
       "min    -1.43         -2.16\n",
       "25%    -0.89         -0.76\n",
       "50%    -0.30          0.19\n",
       "75%     0.94          0.76\n",
       "max     2.26          1.97"
      ]
     },
     "execution_count": 17,
     "metadata": {},
     "output_type": "execute_result"
    }
   ],
   "source": [
    "np.round(x_train_new.describe(),2)"
   ]
  },
  {
   "cell_type": "code",
   "execution_count": 21,
   "id": "b23af65e-bf03-46f0-abce-32b8d8c1241e",
   "metadata": {},
   "outputs": [],
   "source": [
    "## Normalisation   ....> min_value = 0 , max_value = 1\n"
   ]
  },
  {
   "cell_type": "code",
   "execution_count": 22,
   "id": "86f0e012-4c5a-41ef-a9cb-2e521058a995",
   "metadata": {},
   "outputs": [],
   "source": [
    "#Play store ....> app ...> downloads 2.3m , app ....> downloads 23k ,app ...> download = 400"
   ]
  },
  {
   "cell_type": "code",
   "execution_count": 23,
   "id": "14b36025-9a74-41a7-9f77-9db325f7230e",
   "metadata": {},
   "outputs": [
    {
     "data": {
      "text/html": [
       "<div>\n",
       "<style scoped>\n",
       "    .dataframe tbody tr th:only-of-type {\n",
       "        vertical-align: middle;\n",
       "    }\n",
       "\n",
       "    .dataframe tbody tr th {\n",
       "        vertical-align: top;\n",
       "    }\n",
       "\n",
       "    .dataframe thead th {\n",
       "        text-align: right;\n",
       "    }\n",
       "</style>\n",
       "<table border=\"1\" class=\"dataframe\">\n",
       "  <thead>\n",
       "    <tr style=\"text-align: right;\">\n",
       "      <th></th>\n",
       "      <th>cgpa</th>\n",
       "      <th>resume_score</th>\n",
       "      <th>placed</th>\n",
       "    </tr>\n",
       "  </thead>\n",
       "  <tbody>\n",
       "    <tr>\n",
       "      <th>0</th>\n",
       "      <td>8.14</td>\n",
       "      <td>6.52</td>\n",
       "      <td>1</td>\n",
       "    </tr>\n",
       "  </tbody>\n",
       "</table>\n",
       "</div>"
      ],
      "text/plain": [
       "   cgpa  resume_score  placed\n",
       "0  8.14          6.52       1"
      ]
     },
     "execution_count": 23,
     "metadata": {},
     "output_type": "execute_result"
    }
   ],
   "source": [
    "df=pd.read_csv(\"placement - placement.csv\")\n",
    "df.head(1)"
   ]
  },
  {
   "cell_type": "code",
   "execution_count": 24,
   "id": "fd3002db-a189-4e21-8b32-225544b5bbb7",
   "metadata": {},
   "outputs": [],
   "source": [
    "x=df.drop(columns=['placed'])\n",
    "y=df['placed']\n"
   ]
  },
  {
   "cell_type": "code",
   "execution_count": 25,
   "id": "12247526-4b01-4b2c-ab38-5198ac646180",
   "metadata": {},
   "outputs": [],
   "source": [
    "x_train , x_test ,y_train , y_test=train_test_split(x,y,test_size=0.2,random_state=43)"
   ]
  },
  {
   "cell_type": "code",
   "execution_count": 26,
   "id": "20cfd848-d3d3-4edc-84fb-10a3dba33773",
   "metadata": {},
   "outputs": [
    {
     "data": {
      "text/html": [
       "<div>\n",
       "<style scoped>\n",
       "    .dataframe tbody tr th:only-of-type {\n",
       "        vertical-align: middle;\n",
       "    }\n",
       "\n",
       "    .dataframe tbody tr th {\n",
       "        vertical-align: top;\n",
       "    }\n",
       "\n",
       "    .dataframe thead th {\n",
       "        text-align: right;\n",
       "    }\n",
       "</style>\n",
       "<table border=\"1\" class=\"dataframe\">\n",
       "  <thead>\n",
       "    <tr style=\"text-align: right;\">\n",
       "      <th></th>\n",
       "      <th>cgpa</th>\n",
       "      <th>resume_score</th>\n",
       "    </tr>\n",
       "  </thead>\n",
       "  <tbody>\n",
       "    <tr>\n",
       "      <th>count</th>\n",
       "      <td>80.00</td>\n",
       "      <td>80.00</td>\n",
       "    </tr>\n",
       "    <tr>\n",
       "      <th>mean</th>\n",
       "      <td>6.91</td>\n",
       "      <td>6.94</td>\n",
       "    </tr>\n",
       "    <tr>\n",
       "      <th>std</th>\n",
       "      <td>1.11</td>\n",
       "      <td>0.93</td>\n",
       "    </tr>\n",
       "    <tr>\n",
       "      <th>min</th>\n",
       "      <td>5.34</td>\n",
       "      <td>4.95</td>\n",
       "    </tr>\n",
       "    <tr>\n",
       "      <th>25%</th>\n",
       "      <td>5.94</td>\n",
       "      <td>6.24</td>\n",
       "    </tr>\n",
       "    <tr>\n",
       "      <th>50%</th>\n",
       "      <td>6.57</td>\n",
       "      <td>7.11</td>\n",
       "    </tr>\n",
       "    <tr>\n",
       "      <th>75%</th>\n",
       "      <td>7.95</td>\n",
       "      <td>7.64</td>\n",
       "    </tr>\n",
       "    <tr>\n",
       "      <th>max</th>\n",
       "      <td>9.40</td>\n",
       "      <td>8.75</td>\n",
       "    </tr>\n",
       "  </tbody>\n",
       "</table>\n",
       "</div>"
      ],
      "text/plain": [
       "        cgpa  resume_score\n",
       "count  80.00         80.00\n",
       "mean    6.91          6.94\n",
       "std     1.11          0.93\n",
       "min     5.34          4.95\n",
       "25%     5.94          6.24\n",
       "50%     6.57          7.11\n",
       "75%     7.95          7.64\n",
       "max     9.40          8.75"
      ]
     },
     "execution_count": 26,
     "metadata": {},
     "output_type": "execute_result"
    }
   ],
   "source": [
    "np.round(x_train.describe(),2)"
   ]
  },
  {
   "cell_type": "code",
   "execution_count": 27,
   "id": "fefc0e44-a89c-4350-8d66-23a47dd74a0f",
   "metadata": {},
   "outputs": [],
   "source": [
    "from sklearn.preprocessing import MinMaxScaler"
   ]
  },
  {
   "cell_type": "code",
   "execution_count": 28,
   "id": "61f40882-54b5-4e4b-825c-c5758a151489",
   "metadata": {},
   "outputs": [],
   "source": [
    "mn=MinMaxScaler()"
   ]
  },
  {
   "cell_type": "code",
   "execution_count": 29,
   "id": "84275d6a-9ebe-492c-ac14-f7b12465a3e7",
   "metadata": {},
   "outputs": [],
   "source": [
    "x_train_mn=mn.fit_transform(x_train)"
   ]
  },
  {
   "cell_type": "code",
   "execution_count": 30,
   "id": "2e57e965-d06b-4543-bf14-4ee76a311a85",
   "metadata": {},
   "outputs": [],
   "source": [
    "x_train_new=pd.DataFrame(x_train_mn,columns=x_train.columns)"
   ]
  },
  {
   "cell_type": "code",
   "execution_count": 31,
   "id": "2ce086ee-3b0a-48a2-8fff-b30fbc506c3b",
   "metadata": {},
   "outputs": [
    {
     "data": {
      "text/html": [
       "<div>\n",
       "<style scoped>\n",
       "    .dataframe tbody tr th:only-of-type {\n",
       "        vertical-align: middle;\n",
       "    }\n",
       "\n",
       "    .dataframe tbody tr th {\n",
       "        vertical-align: top;\n",
       "    }\n",
       "\n",
       "    .dataframe thead th {\n",
       "        text-align: right;\n",
       "    }\n",
       "</style>\n",
       "<table border=\"1\" class=\"dataframe\">\n",
       "  <thead>\n",
       "    <tr style=\"text-align: right;\">\n",
       "      <th></th>\n",
       "      <th>cgpa</th>\n",
       "      <th>resume_score</th>\n",
       "    </tr>\n",
       "  </thead>\n",
       "  <tbody>\n",
       "    <tr>\n",
       "      <th>count</th>\n",
       "      <td>80.00</td>\n",
       "      <td>80.00</td>\n",
       "    </tr>\n",
       "    <tr>\n",
       "      <th>mean</th>\n",
       "      <td>0.39</td>\n",
       "      <td>0.52</td>\n",
       "    </tr>\n",
       "    <tr>\n",
       "      <th>std</th>\n",
       "      <td>0.27</td>\n",
       "      <td>0.24</td>\n",
       "    </tr>\n",
       "    <tr>\n",
       "      <th>min</th>\n",
       "      <td>0.00</td>\n",
       "      <td>0.00</td>\n",
       "    </tr>\n",
       "    <tr>\n",
       "      <th>25%</th>\n",
       "      <td>0.15</td>\n",
       "      <td>0.34</td>\n",
       "    </tr>\n",
       "    <tr>\n",
       "      <th>50%</th>\n",
       "      <td>0.30</td>\n",
       "      <td>0.57</td>\n",
       "    </tr>\n",
       "    <tr>\n",
       "      <th>75%</th>\n",
       "      <td>0.64</td>\n",
       "      <td>0.71</td>\n",
       "    </tr>\n",
       "    <tr>\n",
       "      <th>max</th>\n",
       "      <td>1.00</td>\n",
       "      <td>1.00</td>\n",
       "    </tr>\n",
       "  </tbody>\n",
       "</table>\n",
       "</div>"
      ],
      "text/plain": [
       "        cgpa  resume_score\n",
       "count  80.00         80.00\n",
       "mean    0.39          0.52\n",
       "std     0.27          0.24\n",
       "min     0.00          0.00\n",
       "25%     0.15          0.34\n",
       "50%     0.30          0.57\n",
       "75%     0.64          0.71\n",
       "max     1.00          1.00"
      ]
     },
     "execution_count": 31,
     "metadata": {},
     "output_type": "execute_result"
    }
   ],
   "source": [
    "np.round(x_train_new.describe(),2)"
   ]
  },
  {
   "cell_type": "code",
   "execution_count": null,
   "id": "d0fd02d8-0250-4d4d-89dc-2f502be28785",
   "metadata": {},
   "outputs": [],
   "source": []
  }
 ],
 "metadata": {
  "kernelspec": {
   "display_name": "Python 3 (ipykernel)",
   "language": "python",
   "name": "python3"
  },
  "language_info": {
   "codemirror_mode": {
    "name": "ipython",
    "version": 3
   },
   "file_extension": ".py",
   "mimetype": "text/x-python",
   "name": "python",
   "nbconvert_exporter": "python",
   "pygments_lexer": "ipython3",
   "version": "3.11.8"
  }
 },
 "nbformat": 4,
 "nbformat_minor": 5
}
