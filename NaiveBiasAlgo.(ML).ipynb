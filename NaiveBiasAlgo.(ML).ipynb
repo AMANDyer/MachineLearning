{
 "cells": [
  {
   "cell_type": "code",
   "execution_count": 2,
   "id": "08f3fa73-161f-4a37-8129-a60bc0d128b7",
   "metadata": {},
   "outputs": [],
   "source": [
    "from sklearn.feature_extraction.text import CountVectorizer\n",
    "from sklearn.naive_bayes import MultinomialNB\n",
    "from sklearn.pipeline import make_pipeline\n",
    "\n",
    "# dataset\n",
    "texts = [\n",
    "    \"buy cheap meds now\",\n",
    "    \"cheap pills online\",\n",
    "    \"get discount now\",\n",
    "    \"meeting at office\",\n",
    "    \"project discussion\",\n",
    "    \"schedule a meeting\"\n",
    "]\n",
    "\n",
    "labels = [\"Spam\", \"Spam\", \"Spam\", \"Not Spam\", \"Not Spam\", \"Not Spam\"]\n",
    "\n",
    "# Create a model pipeline\n",
    "model = make_pipeline(CountVectorizer(), MultinomialNB(alpha=1.0))  # Laplace smoothing with alpha=1\n",
    "\n"
   ]
  },
  {
   "cell_type": "code",
   "execution_count": 4,
   "id": "a2479ec8-de3e-4b86-80d7-ff2f025a362b",
   "metadata": {},
   "outputs": [
    {
     "name": "stdout",
     "output_type": "stream",
     "text": [
      "Message:'cheap meds now'\n",
      "Predicted Class:Spam\n"
     ]
    },
    {
     "ename": "ValueError",
     "evalue": "'spam' is not in list",
     "output_type": "error",
     "traceback": [
      "\u001b[31m---------------------------------------------------------------------------\u001b[39m",
      "\u001b[31mValueError\u001b[39m                                Traceback (most recent call last)",
      "\u001b[36mCell\u001b[39m\u001b[36m \u001b[39m\u001b[32mIn[4]\u001b[39m\u001b[32m, line 21\u001b[39m\n\u001b[32m     19\u001b[39m \u001b[38;5;28mprint\u001b[39m(\u001b[33mf\u001b[39m\u001b[33m\"\u001b[39m\u001b[33mMessage:\u001b[39m\u001b[33m'\u001b[39m\u001b[38;5;132;01m{\u001b[39;00mmsg\u001b[38;5;132;01m}\u001b[39;00m\u001b[33m'\u001b[39m\u001b[33m\"\u001b[39m)\n\u001b[32m     20\u001b[39m \u001b[38;5;28mprint\u001b[39m(\u001b[33mf\u001b[39m\u001b[33m\"\u001b[39m\u001b[33mPredicted Class:\u001b[39m\u001b[38;5;132;01m{\u001b[39;00mlabel\u001b[38;5;132;01m}\u001b[39;00m\u001b[33m\"\u001b[39m)\n\u001b[32m---> \u001b[39m\u001b[32m21\u001b[39m \u001b[38;5;28mprint\u001b[39m(\u001b[33mf\u001b[39m\u001b[33m\"\u001b[39m\u001b[33mProbanilities: Spam=\u001b[39m\u001b[38;5;132;01m{\u001b[39;00mprob[\u001b[43mmodel\u001b[49m\u001b[43m.\u001b[49m\u001b[43mclasses_\u001b[49m\u001b[43m.\u001b[49m\u001b[43mtolist\u001b[49m\u001b[43m(\u001b[49m\u001b[43m)\u001b[49m\u001b[43m.\u001b[49m\u001b[43mindex\u001b[49m\u001b[43m(\u001b[49m\u001b[33;43m'\u001b[39;49m\u001b[33;43mspam\u001b[39;49m\u001b[33;43m'\u001b[39;49m\u001b[43m)\u001b[49m]\u001b[38;5;132;01m:\u001b[39;00m\u001b[33m.2f\u001b[39m\u001b[38;5;132;01m}\u001b[39;00m\u001b[33m, Not Spam= \u001b[39m\u001b[38;5;132;01m{\u001b[39;00mprob[model.classes_.tolist().index(\u001b[33m'\u001b[39m\u001b[33mnotspam\u001b[39m\u001b[33m'\u001b[39m)]\u001b[38;5;132;01m:\u001b[39;00m\u001b[33m.2f\u001b[39m\u001b[38;5;132;01m}\u001b[39;00m\u001b[38;5;130;01m\\n\u001b[39;00m\u001b[33m\"\u001b[39m)\n",
      "\u001b[31mValueError\u001b[39m: 'spam' is not in list"
     ]
    }
   ],
   "source": [
    "#train the model\n",
    "model.fit(texts,labels)\n",
    "\n",
    "#test  messages\n",
    "test_messages =[\n",
    "    \"cheap meds now\",\n",
    "    \"schedule a meeting\",\n",
    "    \"project schedule\",\n",
    "    \"discount online pills\",\n",
    "    \"meeting now\"\n",
    "]\n",
    "\n",
    "#make predictions \n",
    "predicted=model.predict(test_messages)\n",
    "probs=model.predict_proba(test_messages)\n",
    "\n",
    "#display results\n",
    "for msg,label,prob in zip(test_messages,predicted,probs):\n",
    "    print(f\"Message:'{msg}'\")\n",
    "    print(f\"Predicted Class:{label}\")\n",
    "    print(f\"Probanilities: Spam={prob[model.classes_.tolist().index('spam')]:.2f}, Not Spam= {prob[model.classes_.tolist().index('notspam')]:.2f}\\n\")"
   ]
  },
  {
   "cell_type": "code",
   "execution_count": null,
   "id": "e3a1c0d5-2793-454f-a946-868f2fb960eb",
   "metadata": {},
   "outputs": [],
   "source": []
  }
 ],
 "metadata": {
  "kernelspec": {
   "display_name": "Python 3 (ipykernel)",
   "language": "python",
   "name": "python3"
  },
  "language_info": {
   "codemirror_mode": {
    "name": "ipython",
    "version": 3
   },
   "file_extension": ".py",
   "mimetype": "text/x-python",
   "name": "python",
   "nbconvert_exporter": "python",
   "pygments_lexer": "ipython3",
   "version": "3.11.8"
  }
 },
 "nbformat": 4,
 "nbformat_minor": 5
}
