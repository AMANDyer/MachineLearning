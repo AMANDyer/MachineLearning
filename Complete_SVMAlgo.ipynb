{
 "cells": [
  {
   "cell_type": "code",
   "execution_count": 6,
   "id": "765be88d-26d9-4d87-80e8-bd8a1a10e685",
   "metadata": {},
   "outputs": [],
   "source": [
    "from sklearn import svm\n",
    "from sklearn.datasets import make_classification\n",
    "from sklearn.model_selection import train_test_split\n",
    "from sklearn.metrics import accuracy_score"
   ]
  },
  {
   "cell_type": "code",
   "execution_count": 7,
   "id": "4d48b2d0-94e1-4533-a895-ed38a085e0b9",
   "metadata": {},
   "outputs": [
    {
     "name": "stdout",
     "output_type": "stream",
     "text": [
      "Linear kernel accuracy: 0.95\n",
      "polynomial kernel accuracy: 0.9\n"
     ]
    }
   ],
   "source": [
    "x,y=make_classification(n_samples=100,n_features=2,n_informative=2,\n",
    "                       n_redundant=0,random_state=42)\n",
    "x_train,x_test,y_train,y_test=train_test_split(x,y,test_size=0.2,random_state=42)\n",
    "#linear kernel\n",
    "linear_svc=svm.SVC(kernel='linear')\n",
    "linear_svc.fit(x_train,y_train)\n",
    "linear_predictions=linear_svc.predict(x_test)\n",
    "linear_accuracy=accuracy_score(y_test,linear_predictions)\n",
    "print('Linear kernel accuracy:',linear_accuracy)\n",
    "## polynomial kernel\n",
    "poly_svc=svm.SVC(kernel='poly',degree=3)\n",
    "poly_svc.fit(x_train,y_train)\n",
    "poly_predictions=poly_svc.predict(x_test)\n",
    "poly_accuracy=accuracy_score(y_test,poly_predictions)\n",
    "print('polynomial kernel accuracy:',poly_accuracy)\n",
    "\n"
   ]
  },
  {
   "cell_type": "code",
   "execution_count": null,
   "id": "fcbf366f-5005-49cb-bec5-18015dafbd52",
   "metadata": {},
   "outputs": [],
   "source": []
  }
 ],
 "metadata": {
  "kernelspec": {
   "display_name": "Python 3 (ipykernel)",
   "language": "python",
   "name": "python3"
  },
  "language_info": {
   "codemirror_mode": {
    "name": "ipython",
    "version": 3
   },
   "file_extension": ".py",
   "mimetype": "text/x-python",
   "name": "python",
   "nbconvert_exporter": "python",
   "pygments_lexer": "ipython3",
   "version": "3.11.8"
  }
 },
 "nbformat": 4,
 "nbformat_minor": 5
}
